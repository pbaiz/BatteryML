{
 "cells": [
  {
   "cell_type": "code",
   "execution_count": 1,
   "metadata": {},
   "outputs": [],
   "source": [
    "import pandas as pd\n",
    "from pathlib import Path\n",
    "from collections import defaultdict\n",
    "import re\n",
    "import numpy as np\n",
    "# HOME = Path.cwd().parent\n",
    "HOME = Path('.')\n",
    "workspace = HOME / 'workspaces'"
   ]
  },
  {
   "cell_type": "code",
   "execution_count": 2,
   "metadata": {},
   "outputs": [],
   "source": [
    "# Helper functions\n",
    "def format_scores(scores, show_max_min: bool = True):\n",
    "    mean = np.nanmean(scores)\n",
    "    std = np.std(scores)\n",
    "    if show_max_min:\n",
    "        min_ = np.min(scores)\n",
    "        max_ = np.max(scores)\n",
    "        return f'{mean:.0f}±{std:.0f}'\n",
    "    else:\n",
    "        return f'{mean:.0f}±{std:.0f}'\n",
    "\n",
    "def format_df(res_dict, agg_fn):\n",
    "    new_res = {\n",
    "        k: {\n",
    "            key: agg_fn(val) for key, val in v.items()\n",
    "        } for k, v in res_dict.items()\n",
    "    }\n",
    "    return pd.DataFrame(new_res)\n",
    "\n",
    "def extract_scores(log_filename):\n",
    "    with open(log_filename, 'r') as f:\n",
    "        last_line = f.read().splitlines()[-1]\n",
    "    scores = {}\n",
    "    try:\n",
    "        rmse, mae, mape = re.findall(r'[^:]+: (\\d+\\.\\d+)', last_line)\n",
    "    except:\n",
    "        print(log_filename, last_line)\n",
    "        raise\n",
    "    scores['RMSE'] = float(rmse) \n",
    "    scores['MAE'] = float(mae)\n",
    "    scores['MAPE'] = float(mape) * 100\n",
    "    return scores"
   ]
  },
  {
   "cell_type": "code",
   "execution_count": 3,
   "metadata": {},
   "outputs": [],
   "source": [
    "#workspace\n",
    "#datasets_to_use = ['clo','cruh','crush','snl','matr_1', 'matr_2', 'hust', 'mix']\n",
    "datasets_to_use = ['clo','cruh','crush','snl','matr_1', 'matr_2', 'hust', 'mix']\n",
    "sklearn_baseline_names = [\n",
    "    'dummy',\n",
    "    'variance_model',\n",
    "    'discharge_model',\n",
    "    'full_model',\n",
    "    'ridge',\n",
    "    'pcr',\n",
    "    'plsr',\n",
    "    'gpr',\n",
    "    'xgb',\n",
    "    'rf',\n",
    "]\n",
    "nn_baseline_names = ['mlp', 'cnn', 'lstm', 'transformer']\n",
    "\n",
    "def collect_results(dataset):\n",
    "    sklearn_results = [\n",
    "        sklearn_baselines[dataset][name] for name in sklearn_baseline_names\n",
    "    ]\n",
    "    nn_results = [\n",
    "        nn_baselines[dataset][name] for name in nn_baseline_names\n",
    "    ]\n",
    "    # our_results = [ours[dataset]['Ours']]\n",
    "    return sklearn_results + nn_results\n",
    "    # return sklearn_results + nn_results + our_results\n",
    "\n",
    "sklearn_baselines = defaultdict(dict)\n",
    "for method_path in workspace.glob('baselines/sklearn/*'):\n",
    "    method = method_path.name\n",
    "    for dataset_res in method_path.glob('*'):\n",
    "        dataset = dataset_res.name\n",
    "        score = extract_scores(dataset_res / 'log.0')['RMSE']\n",
    "        sklearn_baselines[dataset][method] = f'{int(score)}'\n",
    "\n",
    "nn_baselines = defaultdict(dict)\n",
    "for method_path in workspace.glob('baselines/nn_models/*'):\n",
    "    method = method_path.name\n",
    "    for dataset_res in method_path.glob('*'):\n",
    "        dataset = dataset_res.name\n",
    "        scores = []\n",
    "        for i in range(10):\n",
    "            try:\n",
    "                score = extract_scores(dataset_res / f'log.{i}')['RMSE']\n",
    "            except:\n",
    "                score = None\n",
    "            scores.append(score)\n",
    "        try:\n",
    "            nn_baselines[dataset][method] = format_scores(scores)\n",
    "        except:\n",
    "            nn_baselines[dataset][method] = None"
   ]
  },
  {
   "cell_type": "code",
   "execution_count": 4,
   "metadata": {},
   "outputs": [
    {
     "data": {
      "text/plain": [
       "['clo', 'cruh', 'crush', 'snl', 'matr_1', 'matr_2', 'hust', 'mix']"
      ]
     },
     "execution_count": 4,
     "metadata": {},
     "output_type": "execute_result"
    }
   ],
   "source": [
    "datasets_to_use"
   ]
  },
  {
   "cell_type": "code",
   "execution_count": 5,
   "metadata": {},
   "outputs": [],
   "source": [
    "datasets_to_use = ['matr_1']"
   ]
  },
  {
   "cell_type": "code",
   "execution_count": 6,
   "metadata": {},
   "outputs": [],
   "source": [
    "# # new\n",
    "# main_table_df = pd.DataFrame({\n",
    "#     dataset: collect_results(dataset) for dataset in datasets_to_use\n",
    "# }, index=sklearn_baseline_names+nn_baseline_names)\n",
    "\n",
    "# main_table_df = main_table_df.rename(columns={\n",
    "#     'snl': 'SNL',\n",
    "#     'clo': 'CLO',\n",
    "#     'hust': 'HUST',\n",
    "#     'matr_1': 'MATR-1',\n",
    "#     'matr_2': 'MATR-2',\n",
    "#     'cruh': 'CRUH',\n",
    "#     'crush': 'CRUSH',\n",
    "#     'mix': 'MIX'\n",
    "# }, index={\n",
    "#     'dummy': 'Training Mean',\n",
    "#     'variance_model': '``Variance\\'\\' Model',\n",
    "#     'discharge_model': '``Discharge\\'\\' Model',\n",
    "#     'full_model': '``Full\\'\\' Model',\n",
    "#     'ridge': 'Ridge Regression',\n",
    "#     'pcr': 'PCR',\n",
    "#     'plsr': 'PLSR',\n",
    "#     'gpr': 'Guassian process',\n",
    "#     'xgb': 'XGBoost',\n",
    "#     'rf': 'Random Forest',\n",
    "#     'mlp': 'MLP',\n",
    "#     'cnn': 'CNN',\n",
    "#     'lstm': 'LSTM',\n",
    "#     'transformer': 'Transformer',\n",
    "# })[['MATR-1', 'MATR-2', 'HUST','SNL', 'CLO',  'CRUH', 'CRUSH', 'MIX']]\n",
    "\n",
    "# main_table_df"
   ]
  },
  {
   "cell_type": "code",
   "execution_count": null,
   "metadata": {},
   "outputs": [],
   "source": []
  }
 ],
 "metadata": {
  "kernelspec": {
   "display_name": "Python 3 (ipykernel)",
   "language": "python",
   "name": "python3"
  },
  "language_info": {
   "codemirror_mode": {
    "name": "ipython",
    "version": 3
   },
   "file_extension": ".py",
   "mimetype": "text/x-python",
   "name": "python",
   "nbconvert_exporter": "python",
   "pygments_lexer": "ipython3",
   "version": "3.12.0"
  }
 },
 "nbformat": 4,
 "nbformat_minor": 4
}
